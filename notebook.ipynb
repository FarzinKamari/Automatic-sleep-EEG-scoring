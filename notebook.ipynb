{
 "cells": [
  {
   "cell_type": "markdown",
   "id": "b8ce9187",
   "metadata": {},
   "source": [
    "### Imports"
   ]
  },
  {
   "cell_type": "code",
   "execution_count": 1,
   "id": "d6415315",
   "metadata": {},
   "outputs": [],
   "source": [
    "import numpy as np\n",
    "import pandas as pd\n",
    "import os\n",
    "%config Completer.use_jedi = False\n",
    "\n",
    "# if necessary change directory to the directory keeping files\n",
    "#os.chdir('')\n",
    "from utils import eeg_reader"
   ]
  },
  {
   "cell_type": "markdown",
   "id": "42d95e1c",
   "metadata": {},
   "source": [
    "### Address"
   ]
  },
  {
   "cell_type": "code",
   "execution_count": 2,
   "id": "3d3db847",
   "metadata": {},
   "outputs": [],
   "source": [
    "data_address = ['I:/Marco/Sleep scoring/m17a/m17a.mat',\n",
    "               'I:/Marco/Sleep scoring/m18a/m18a.mat',\n",
    "               'I:/Marco/Sleep scoring/m18b/m18b.mat', \n",
    "               'I:/Marco/Sleep scoring/m21a/m21a.mat', \n",
    "               'I:/Marco/Sleep scoring/m23a/m23a.mat', \n",
    "               'I:/Marco/Sleep scoring/m24a/m24a.mat',\n",
    "               ]\n",
    "\n",
    "label_address = ['I:/Marco/Sleep scoring/m17a/m17a.csv', \n",
    "                'I:/Marco/Sleep scoring/m18a/m18a.csv', \n",
    "                'I:/Marco/Sleep scoring/m18b/m18b.csv', \n",
    "                'I:/Marco/Sleep scoring/m21a/m21a.csv', \n",
    "                'I:/Marco/Sleep scoring/m23a/m23a.csv', \n",
    "                'I:/Marco/Sleep scoring/m24a/m24a.csv', \n",
    "                ]\n",
    "\n",
    "order_ = [[1, 2, 0], \n",
    "         [1, 2, 0], \n",
    "         [1, 2, 0], \n",
    "         [1, 2, 0], \n",
    "         [1, 2, 0], \n",
    "         [1, 2, 0]]"
   ]
  },
  {
   "cell_type": "markdown",
   "id": "af07be60",
   "metadata": {},
   "source": [
    "### Custom data"
   ]
  },
  {
   "cell_type": "code",
   "execution_count": 3,
   "id": "0ce32367",
   "metadata": {
    "scrolled": true
   },
   "outputs": [
    {
     "name": "stdout",
     "output_type": "stream",
     "text": [
      "shape of label vector: (2064,)\n",
      "CH1 (1, 20636000) CH2 (1, 20636000) CH3 (1, 20636000)\n",
      "output signal size is: (3, 20636000)\n",
      "WARNING: signal length is not equal to number of epochs * epoch length\n",
      "WARNING: signal will be cutted from end.\n",
      "number of epochs is: 2063 and adjusted signals length is: 20630000\n",
      "number of unique classes are: {nr_classes}\n",
      "optimal number of epochs are: 2063\n",
      "auxilary data initial size (2063, 10000, 3)\n",
      "auxilary data final size (2063, 10000, 3)   labels final size (2063,)\n"
     ]
    }
   ],
   "source": [
    "# reading EEG data from matlab files and labels from csv\n",
    "\n",
    "# reading labels\n",
    "labels_path = label_address[0]\n",
    "\n",
    "# reading labels\n",
    "df = pd.read_csv(labels_path, delimiter=';', header=None)  \n",
    "\n",
    "\n",
    "# getting label values from data frame\n",
    "labels = df.iloc[:, 1].values.astype(float)\n",
    "print(f'shape of label vector: {labels.shape}')\n",
    "\n",
    "\n",
    "# loading eeg files cusing custom written function\n",
    "eeg_files = eeg_reader(data_path = data_address[0], labels = labels, orders = order_[0], epoch_length=1e4)\n",
    "\n"
   ]
  },
  {
   "cell_type": "code",
   "execution_count": 6,
   "id": "bd25112e",
   "metadata": {},
   "outputs": [],
   "source": [
    "from preprocessing import pre_processing\n",
    "PreProcessing = pre_processing()"
   ]
  },
  {
   "cell_type": "code",
   "execution_count": null,
   "id": "a13c8b65",
   "metadata": {},
   "outputs": [],
   "source": [
    "min_max = PreProcessing.MinMaxScaler()"
   ]
  }
 ],
 "metadata": {
  "kernelspec": {
   "display_name": "Python 3",
   "language": "python",
   "name": "python3"
  },
  "language_info": {
   "codemirror_mode": {
    "name": "ipython",
    "version": 3
   },
   "file_extension": ".py",
   "mimetype": "text/x-python",
   "name": "python",
   "nbconvert_exporter": "python",
   "pygments_lexer": "ipython3",
   "version": "3.7.9"
  }
 },
 "nbformat": 4,
 "nbformat_minor": 5
}
